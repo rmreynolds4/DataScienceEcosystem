{
 "cells": [
  {
   "cell_type": "markdown",
   "id": "8ec95baa-30e4-4f8d-a0c7-506af86601b6",
   "metadata": {
    "tags": []
   },
   "source": [
    "# Data Science Tools and Ecosystem\n",
    "\n",
    "In this notebook, Data Science Tools and Ecosystem are summarized."
   ]
  },
  {
   "cell_type": "markdown",
   "id": "9af52895-0825-4a7e-b58a-a9dd6b8c82eb",
   "metadata": {
    "tags": []
   },
   "source": [
    "__Objectives:__\n",
    "\n",
    "* List popular languages for Data Science\n",
    "* Commonly Used Libraries for Data Science\n",
    "* Tools used for Data Science"
   ]
  },
  {
   "cell_type": "markdown",
   "id": "bb6b068c-ea85-42ba-a138-28b9a2bf2f29",
   "metadata": {},
   "source": [
    "Some of the popular languages that Data Scientists use are:\n",
    "\n",
    "1. Python\n",
    "2. R\n",
    "3. SQL \n",
    "4. Java\n",
    "5. Javascript\n",
    "\n",
    "\n"
   ]
  },
  {
   "cell_type": "markdown",
   "id": "b5ecd523-0812-41a8-ae53-bac025b885eb",
   "metadata": {},
   "source": [
    "Some of the commonly used libraries used by Data Scientists include:\n",
    "\n",
    "1. Pandas\n",
    "2. Plotly\n",
    "3. Numpy\n"
   ]
  },
  {
   "cell_type": "markdown",
   "id": "ccaa3636-997a-445a-9dd2-2689856f79bd",
   "metadata": {},
   "source": [
    "| Data Science Tools |\n",
    "----------------------\n",
    "| Apache Hadoop |\n",
    "| Apache Spark |\n",
    "| Tableau |"
   ]
  },
  {
   "cell_type": "markdown",
   "id": "5de832f1-b545-4f04-b4bd-f293cafdf56b",
   "metadata": {},
   "source": [
    "### Below are a few examples of evaluating arithmetic expressions in Python\n"
   ]
  },
  {
   "cell_type": "code",
   "execution_count": 1,
   "id": "679d4871-48a0-46f5-8456-61cf2d6efeff",
   "metadata": {
    "tags": []
   },
   "outputs": [
    {
     "data": {
      "text/plain": [
       "17"
      ]
     },
     "execution_count": 1,
     "metadata": {},
     "output_type": "execute_result"
    }
   ],
   "source": [
    "# This a simple arithmetic expression to mutiply then add integers\n",
    "\n",
    "(3*4)+5\n",
    "\n"
   ]
  },
  {
   "cell_type": "code",
   "execution_count": 2,
   "id": "34fd6c19-d696-4573-860d-7fa336aab631",
   "metadata": {},
   "outputs": [
    {
     "data": {
      "text/plain": [
       "3.3333333333333335"
      ]
     },
     "execution_count": 2,
     "metadata": {},
     "output_type": "execute_result"
    }
   ],
   "source": [
    "# This will convert 200 minutes to hours by diving by 60\n",
    "\n",
    "200/60\n",
    "\n"
   ]
  },
  {
   "cell_type": "markdown",
   "id": "ba540351-3a11-4563-8d45-69a038fcc20f",
   "metadata": {},
   "source": [
    "## Author\n",
    "\n",
    "Robert Reynolds\n",
    "\n"
   ]
  },
  {
   "cell_type": "code",
   "execution_count": null,
   "id": "49e32681-2b68-4095-8587-e05886536747",
   "metadata": {},
   "outputs": [],
   "source": []
  }
 ],
 "metadata": {
  "kernelspec": {
   "display_name": "Python",
   "language": "python",
   "name": "conda-env-python-py"
  },
  "language_info": {
   "codemirror_mode": {
    "name": "ipython",
    "version": 3
   },
   "file_extension": ".py",
   "mimetype": "text/x-python",
   "name": "python",
   "nbconvert_exporter": "python",
   "pygments_lexer": "ipython3",
   "version": "3.7.12"
  }
 },
 "nbformat": 4,
 "nbformat_minor": 5
}
